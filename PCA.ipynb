{
 "cells": [
  {
   "cell_type": "code",
   "execution_count": null,
   "metadata": {},
   "outputs": [],
   "source": [
    "#https://www.youtube.com/watch?v=yDUCqI4zBlM\n",
    "import pandas as pd\n",
    "from sklearn.decomposition import PCA\n",
    "from sklearn.preprocessing import StandardScaler\n",
    "import matplotlib.pyplot as plt"
   ]
  },
  {
   "cell_type": "code",
   "execution_count": null,
   "metadata": {},
   "outputs": [],
   "source": [
    "#Preparo una tabla con todas las columnas que necesito normalizar\n",
    "#importo el xlsx\n",
    "file=pd.ExcelFile('Quantification_TMT-phospho_4conditions-mouse.xlsx')\n",
    "#cargo las hojas que necesito (proteínas y p-péptidos)\n",
    "df_sheet=file.parse('Quant-PeptideGroup in IS_FDR<1%')\n",
    "df_p_sheet=file.parse('Peptide-groups_phosho_FDR<1%')\n",
    "#selecciono las columnas que quiero\n",
    "cols=['Abundances (Normalized): F1: 128C, Sample, Cre AKI','Abundances (Normalized): F1: 129N, Sample, Cre AKI',\n",
    "'Abundances (Normalized): F1: 129C, Sample, Cre AKI','Abundances (Normalized): F1: 130N, Sample, Cre AKI',\n",
    "'Abundances (Normalized): F1: 126, Sample, Cre Control','Abundances (Normalized): F1: 127N, Sample, Cre Control',\n",
    "'Abundances (Normalized): F1: 127C, Sample, Cre Control','Abundances (Normalized): F1: 128N, Sample, Cre Control']\n",
    "df_selec=df_sheet[cols]\n",
    "df_selec_p=df_p_sheet[cols]\n",
    "#transpongo para que no queden NaN en las filas (solo dos columnas tienen >200 proteínas, el resto de columnas tendrían NaN en esas filas de proteínas)\n",
    "dfT=df_selec.T\n",
    "df=pd.DataFrame(dfT)\n",
    "#df\n",
    "df_pT=df_selec_p.T\n",
    "df_p=pd.DataFrame(df_pT)\n",
    "df_p\n",
    "#df=pd.concat([df1, df2, df3, df4, df5, df6], axis=1) #axis=1 permite concatenar columnas en vez de filas"
   ]
  },
  {
   "cell_type": "code",
   "execution_count": null,
   "metadata": {},
   "outputs": [],
   "source": [
    "#Normalización\n",
    "#creo una función para normalizar\n",
    "scaler=StandardScaler()\n",
    "#normalizo\n",
    "df=scaler.fit_transform(df)\n",
    "df=pd.DataFrame(df)\n",
    "df_p=scaler.fit_transform(df_p)\n",
    "df_p=pd.DataFrame(df_p)"
   ]
  },
  {
   "cell_type": "code",
   "execution_count": null,
   "metadata": {},
   "outputs": [],
   "source": [
    "#PCA\n",
    "#péptidos\n",
    "pca_2c=PCA(n_components=2)\n",
    "pca=pca_2c.fit_transform(df)\n",
    "print(pca)\n",
    "#p-péptidos\n",
    "pca_2c_p=PCA(n_components=2)\n",
    "pca_p=pca_2c_p.fit_transform(df_p)\n",
    "print(pca_p)"
   ]
  },
  {
   "cell_type": "code",
   "execution_count": null,
   "metadata": {},
   "outputs": [],
   "source": [
    "#Vemos la varianza explicada por los dos componentes\n",
    "print(pca_2c.explained_variance_ratio_)\n",
    "print(pca_2c.explained_variance_ratio_.sum())\n",
    "print(pca_2c_p.explained_variance_ratio_)\n",
    "print(pca_2c_p.explained_variance_ratio_.sum())"
   ]
  },
  {
   "cell_type": "code",
   "execution_count": null,
   "metadata": {},
   "outputs": [],
   "source": [
    "#Scatter plot\n",
    "#pongo cada grupo por separado para que aparezcan de distintos colores\n",
    "#Cre AKI\n",
    "plt.scatter(pca[:4,0],pca[:4,1])\n",
    "#se puede cambiar el color y los bordes de los puntos: plt.scatter(pca[:4,0],pca[:4,1], color='red', edgecolors='black', linewidths=.5)\n",
    "#Cre ctrl\n",
    "plt.scatter(pca[4:8,0],pca[4:8,1])\n",
    "#Napi AKI\n",
    "plt.scatter(pca[8:12,0],pca[8:12,1])\n",
    "#Napi ctrl\n",
    "plt.scatter(pca[12:16,0],pca[12:16,1])\n",
    "plt.xlabel(f'Component 1: {pca_2c.explained_variance_ratio_[0]*100:.2f}%')\n",
    "plt.ylabel(f'Component 2: {pca_2c.explained_variance_ratio_[1]*100:.2f}%')"
   ]
  },
  {
   "cell_type": "code",
   "execution_count": null,
   "metadata": {},
   "outputs": [],
   "source": [
    "#Cre AKI\n",
    "plt.scatter(pca_p[:4,0],pca_p[:4,1])\n",
    "#Cre ctrl\n",
    "plt.scatter(pca_p[4:8,0],pca_p[4:8,1])\n",
    "#Napi AKI\n",
    "#plt.scatter(pca_p[8:12,0],pca_p[8:12,1])\n",
    "#Napi ctrl\n",
    "#plt.scatter(pca_p[12:16,0],pca_p[12:16,1])\n",
    "plt.xlabel(f'Component 1 ({pca_2c_p.explained_variance_ratio_[0]*100:.2f}%)')\n",
    "plt.ylabel(f'Component 2 ({pca_2c_p.explained_variance_ratio_[1]*100:.2f}%)')\n",
    "#plt.savefig(\"PCA_CreAKI-CreCtrl.svg\")"
   ]
  }
 ],
 "metadata": {
  "kernelspec": {
   "display_name": "Python 3",
   "language": "python",
   "name": "python3"
  },
  "language_info": {
   "codemirror_mode": {
    "name": "ipython",
    "version": 3
   },
   "file_extension": ".py",
   "mimetype": "text/x-python",
   "name": "python",
   "nbconvert_exporter": "python",
   "pygments_lexer": "ipython3",
   "version": "3.11.7"
  }
 },
 "nbformat": 4,
 "nbformat_minor": 2
}
